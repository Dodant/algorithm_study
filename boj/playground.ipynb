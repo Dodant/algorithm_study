{
 "cells": [
  {
   "cell_type": "code",
   "execution_count": 11,
   "metadata": {},
   "outputs": [
    {
     "name": "stdout",
     "output_type": "stream",
     "text": [
      "q\n"
     ]
    }
   ],
   "source": [
    "import sys \n",
    "sys.stdin = open('data.txt', 'r')\n",
    "\n",
    "n = int(input())\n",
    "word_bag = []\n",
    "\n",
    "for i in range(n):\n",
    "    text = str(input())\n",
    "    word_bag.append(text)\n",
    "\n",
    "word_bag = list(set(word_bag))\n",
    "word_bag.sort()\n",
    "word_bag.sort(key=len)\n",
    "print('\\n'.join(word_bag))"
   ]
  },
  {
   "cell_type": "code",
   "execution_count": 5,
   "metadata": {},
   "outputs": [
    {
     "data": {
      "text/plain": [
       "[0]"
      ]
     },
     "execution_count": 5,
     "metadata": {},
     "output_type": "execute_result"
    }
   ],
   "source": [
    "list(range(1))"
   ]
  },
  {
   "cell_type": "code",
   "execution_count": 6,
   "metadata": {},
   "outputs": [
    {
     "name": "stdout",
     "output_type": "stream",
     "text": [
      "BWBWBWBWWBWBWBWBBWBWBWBWWBWBWBWBBWBWBWBWWBWBWBWBBWBWBWBWWBWBWBWB\n"
     ]
    }
   ],
   "source": [
    "b_first = 'BWBWBWBW'\n",
    "w_first = 'WBWBWBWB'\n",
    "b_chess = (b_first + w_first) * 4\n",
    "print(b_chess)"
   ]
  },
  {
   "cell_type": "code",
   "execution_count": null,
   "metadata": {},
   "outputs": [],
   "source": []
  }
 ],
 "metadata": {
  "interpreter": {
   "hash": "dcca39189b8fa7ea19eaaf7f26e35236680afea2c4ae7907b993efb0652830aa"
  },
  "kernelspec": {
   "display_name": "Python 3.9.7 ('base')",
   "language": "python",
   "name": "python3"
  },
  "language_info": {
   "codemirror_mode": {
    "name": "ipython",
    "version": 3
   },
   "file_extension": ".py",
   "mimetype": "text/x-python",
   "name": "python",
   "nbconvert_exporter": "python",
   "pygments_lexer": "ipython3",
   "version": "3.9.7"
  },
  "orig_nbformat": 4
 },
 "nbformat": 4,
 "nbformat_minor": 2
}
